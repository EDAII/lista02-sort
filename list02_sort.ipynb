{
 "cells": [
  {
   "cell_type": "markdown",
   "metadata": {},
   "source": [
    "Para esse exercício iremos mostrar que até mesmo um modelo de aprendizado de máquina, não é capaz de dizer em 100% dos casos quando uma lista está ordenada. É importante ressaltar que para treinar o modelo em questão, só foram considerados os primeiros 20 elementos da lista, o que em um problema real não é suficiente para afirmar, com uma precisão confiável, que a lista esteja ordenada.\n",
    "Sendo assim, em casos especificos é necessário utilizar o selection sort para ter certeza, em quase 100% dos casos que a lista está ordenada."
   ]
  },
  {
   "cell_type": "code",
   "execution_count": 36,
   "metadata": {},
   "outputs": [],
   "source": [
    "import random, time\n",
    "import pandas as pd\n",
    "NUMBER_OF_ELEMENTS = 100\n",
    "RANGE_OF_ELEMENTS = 100000\n",
    "\n",
    "def generate_random_numbers():\n",
    "     return random.sample(range(RANGE_OF_ELEMENTS), NUMBER_OF_ELEMENTS)\n",
    "\n",
    "list_number = generate_random_numbers()\n"
   ]
  },
  {
   "cell_type": "markdown",
   "metadata": {},
   "source": [
    "## Selection Sort"
   ]
  },
  {
   "cell_type": "code",
   "execution_count": 37,
   "metadata": {},
   "outputs": [],
   "source": [
    "\n",
    "def selection_sort(list_number):\n",
    "    size_list = len(list_number)\n",
    "    for i in range(0,size_list):\n",
    "        current = list_number[i]\n",
    "        min_value =  min(list_number[i:])\n",
    "        min_value_index = list_number.index(min(list_number[i:]))\n",
    "        if current != min_value :\n",
    "            list_number[i], list_number[min_value_index] = list_number[min_value_index] , list_number[i]\n",
    "    return list_number"
   ]
  },
  {
   "cell_type": "markdown",
   "metadata": {},
   "source": [
    "## Get time for execute the Sort algorithm with an array random"
   ]
  },
  {
   "cell_type": "code",
   "execution_count": 38,
   "metadata": {},
   "outputs": [],
   "source": [
    "interation_with_random_numbers = []\n",
    "time_for_execution = []\n",
    "number_of_elements = 100\n",
    "for a in range(3):\n",
    "    #random_numbers = generate_random_numbers()\n",
    "    random_numbers = random.sample(range(100000), number_of_elements)\n",
    "    start = time.time()\n",
    "    ordination = selection_sort(random_numbers)\n",
    "    end = time.time()\n",
    "    time_of_execution = end - start\n",
    "    interation_with_random_numbers.append(number_of_elements)\n",
    "    time_for_execution.append(time_of_execution)\n",
    "    number_of_elements = number_of_elements*10"
   ]
  },
  {
   "cell_type": "markdown",
   "metadata": {},
   "source": [
    "## Graphic of Sort Algorithm: time vs amount of elements in an array with random numbers"
   ]
  },
  {
   "cell_type": "code",
   "execution_count": 39,
   "metadata": {},
   "outputs": [
    {
     "data": {
      "image/png": "[encoded data removed]",
      "text/plain": [
       "<Figure size 432x288 with 1 Axes>"
      ]
     },
     "metadata": {},
     "output_type": "display_data"
    },
    {
     "name": "stdout",
     "output_type": "stream",
     "text": [
      "[0.0013816356658935547, 0.04100632667541504, 3.298933744430542]\n",
      "[100, 1000, 10000]\n"
     ]
    }
   ],
   "source": [
    "import matplotlib.pyplot as plt\n",
    "plt.xlabel(\"Values\")\n",
    "plt.ylabel(\"Time\")\n",
    "plt.plot(interation_with_random_numbers,time_for_execution)\n",
    "plt.show()\n",
    "print(time_for_execution)\n",
    "print(interation_with_random_numbers)"
   ]
  },
  {
   "cell_type": "markdown",
   "metadata": {},
   "source": [
    "## Get time for execute the Sort algorithm with an array sorted"
   ]
  },
  {
   "cell_type": "code",
   "execution_count": 50,
   "metadata": {},
   "outputs": [],
   "source": [
    "interation_with_sorted_numbers = []\n",
    "time_for_execution_sorted = []\n",
    "number_of_elements_sorted = 100\n",
    "for a in range(3):\n",
    "    #random_numbers = generate_random_numbers()\n",
    "    random_numbers = random.sample(range(100000), number_of_elements_sorted)\n",
    "    random_numbers.sort()\n",
    "    start = time.time()\n",
    "    ordination = selection_sort(random_numbers)\n",
    "    end = time.time()\n",
    "    time_of_execution = end - start\n",
    "    interation_with_sorted_numbers.append(number_of_elements_sorted)\n",
    "    time_for_execution_sorted.append(time_of_execution)\n",
    "    number_of_elements_sorted = number_of_elements_sorted*10"
   ]
  },
  {
   "cell_type": "markdown",
   "metadata": {},
   "source": [
    "## Graphic of Sort Algorithm: time vs amount of elements in a sorted array"
   ]
  },
  {
   "cell_type": "code",
   "execution_count": 51,
   "metadata": {},
   "outputs": [
    {
     "data": {
      "image/png": "[encoded data removed]",
      "text/plain": [
       "<Figure size 432x288 with 1 Axes>"
      ]
     },
     "metadata": {},
     "output_type": "display_data"
    },
    {
     "name": "stdout",
     "output_type": "stream",
     "text": [
      "[0.0016326904296875, 0.03928089141845703, 2.9224324226379395]\n",
      "[100, 1000, 10000]\n"
     ]
    }
   ],
   "source": [
    "import matplotlib.pyplot as plt\n",
    "plt.xlabel(\"Values\")\n",
    "plt.ylabel(\"Time\")\n",
    "plt.plot(interation_with_sorted_numbers,time_for_execution_sorted)\n",
    "plt.show()\n",
    "print(time_for_execution_sorted)\n",
    "print(interation_with_sorted_numbers)"
   ]
  },
  {
   "cell_type": "code",
   "execution_count": 52,
   "metadata": {},
   "outputs": [],
   "source": [
    "list_for_frame = [[]]\n",
    "result = []\n",
    "for i in range(0,900000):\n",
    "    lis_number = generate_random_numbers()\n",
    "    flag = random.randint(1,RANGE_OF_ELEMENTS)\n",
    "    if flag % 3 == 0:\n",
    "        lis_number.sort()\n",
    "        result.append('True')\n",
    "    else :\n",
    "        result.append('False')\n",
    "        \n",
    "    list_for_frame.append(lis_number[0:20])\n",
    "df = pd.DataFrame(list_for_frame,columns=['Elem :1','Elem :2','Elem :3','Elem :4','Elem :5','Elem :6','Elem :7',\n",
    "                        'Elem :8','Elem :9','Elem :10','Elem :11','Elem :12','Elem :13','Elem :14',\n",
    "                      'Elem :15','Elem :16','Elem :17','Elem :18','Elem :19','Elem :20'])\n",
    "\n",
    "df = df.drop(df.index[0])"
   ]
  },
  {
   "cell_type": "code",
   "execution_count": 53,
   "metadata": {},
   "outputs": [],
   "source": [
    "list_pandas_series = pd.Series(result)\n",
    "df['Result'] = list_pandas_series.values"
   ]
  },
  {
   "cell_type": "code",
   "execution_count": 54,
   "metadata": {},
   "outputs": [],
   "source": [
    "def make_target_frame(frame, target_column):\n",
    "    df_mod = frame.copy()\n",
    "    targets = df_mod[target_column].unique()\n",
    "    map_to_int = {name: n for n, name in enumerate(targets)}\n",
    "    df_mod[\"Target\"] = df_mod[target_column].map({'True':1, 'False':0})\n",
    "    return (df_mod, targets)\n",
    "frame, targets = make_target_frame(df, \"Result\")"
   ]
  },
  {
   "cell_type": "code",
   "execution_count": 55,
   "metadata": {},
   "outputs": [
    {
     "data": {
      "text/html": [
       "<div>\n",
       "<style scoped>\n",
       "    .dataframe tbody tr th:only-of-type {\n",
       "        vertical-align: middle;\n",
       "    }\n",
       "\n",
       "    .dataframe tbody tr th {\n",
       "        vertical-align: top;\n",
       "    }\n",
       "\n",
       "    .dataframe thead th {\n",
       "        text-align: right;\n",
       "    }\n",
       "</style>\n",
       "<table border=\"1\" class=\"dataframe\">\n",
       "  <thead>\n",
       "    <tr style=\"text-align: right;\">\n",
       "      <th></th>\n",
       "      <th>Elem :1</th>\n",
       "      <th>Elem :2</th>\n",
       "      <th>Elem :3</th>\n",
       "      <th>Elem :4</th>\n",
       "      <th>Elem :5</th>\n",
       "      <th>Elem :6</th>\n",
       "      <th>Elem :7</th>\n",
       "      <th>Elem :8</th>\n",
       "      <th>Elem :9</th>\n",
       "      <th>Elem :10</th>\n",
       "      <th>...</th>\n",
       "      <th>Elem :13</th>\n",
       "      <th>Elem :14</th>\n",
       "      <th>Elem :15</th>\n",
       "      <th>Elem :16</th>\n",
       "      <th>Elem :17</th>\n",
       "      <th>Elem :18</th>\n",
       "      <th>Elem :19</th>\n",
       "      <th>Elem :20</th>\n",
       "      <th>Result</th>\n",
       "      <th>Target</th>\n",
       "    </tr>\n",
       "  </thead>\n",
       "  <tbody>\n",
       "    <tr>\n",
       "      <th>1</th>\n",
       "      <td>10452.0</td>\n",
       "      <td>3767.0</td>\n",
       "      <td>11860.0</td>\n",
       "      <td>13731.0</td>\n",
       "      <td>29150.0</td>\n",
       "      <td>12174.0</td>\n",
       "      <td>89131.0</td>\n",
       "      <td>60008.0</td>\n",
       "      <td>88678.0</td>\n",
       "      <td>97158.0</td>\n",
       "      <td>...</td>\n",
       "      <td>42483.0</td>\n",
       "      <td>16503.0</td>\n",
       "      <td>53474.0</td>\n",
       "      <td>1621.0</td>\n",
       "      <td>18381.0</td>\n",
       "      <td>8532.0</td>\n",
       "      <td>37401.0</td>\n",
       "      <td>11683.0</td>\n",
       "      <td>False</td>\n",
       "      <td>0</td>\n",
       "    </tr>\n",
       "    <tr>\n",
       "      <th>2</th>\n",
       "      <td>83700.0</td>\n",
       "      <td>40482.0</td>\n",
       "      <td>13005.0</td>\n",
       "      <td>73886.0</td>\n",
       "      <td>82432.0</td>\n",
       "      <td>62550.0</td>\n",
       "      <td>78360.0</td>\n",
       "      <td>10613.0</td>\n",
       "      <td>19695.0</td>\n",
       "      <td>77940.0</td>\n",
       "      <td>...</td>\n",
       "      <td>86290.0</td>\n",
       "      <td>71251.0</td>\n",
       "      <td>72807.0</td>\n",
       "      <td>86556.0</td>\n",
       "      <td>69678.0</td>\n",
       "      <td>89353.0</td>\n",
       "      <td>70384.0</td>\n",
       "      <td>426.0</td>\n",
       "      <td>False</td>\n",
       "      <td>0</td>\n",
       "    </tr>\n",
       "    <tr>\n",
       "      <th>3</th>\n",
       "      <td>34114.0</td>\n",
       "      <td>86671.0</td>\n",
       "      <td>98013.0</td>\n",
       "      <td>78270.0</td>\n",
       "      <td>94458.0</td>\n",
       "      <td>83710.0</td>\n",
       "      <td>15833.0</td>\n",
       "      <td>88701.0</td>\n",
       "      <td>27696.0</td>\n",
       "      <td>5404.0</td>\n",
       "      <td>...</td>\n",
       "      <td>98037.0</td>\n",
       "      <td>86979.0</td>\n",
       "      <td>12625.0</td>\n",
       "      <td>64709.0</td>\n",
       "      <td>8222.0</td>\n",
       "      <td>55126.0</td>\n",
       "      <td>60596.0</td>\n",
       "      <td>86863.0</td>\n",
       "      <td>False</td>\n",
       "      <td>0</td>\n",
       "    </tr>\n",
       "    <tr>\n",
       "      <th>4</th>\n",
       "      <td>88760.0</td>\n",
       "      <td>96348.0</td>\n",
       "      <td>58454.0</td>\n",
       "      <td>2021.0</td>\n",
       "      <td>21198.0</td>\n",
       "      <td>70719.0</td>\n",
       "      <td>7309.0</td>\n",
       "      <td>15399.0</td>\n",
       "      <td>92832.0</td>\n",
       "      <td>76132.0</td>\n",
       "      <td>...</td>\n",
       "      <td>44242.0</td>\n",
       "      <td>40306.0</td>\n",
       "      <td>14022.0</td>\n",
       "      <td>11689.0</td>\n",
       "      <td>30025.0</td>\n",
       "      <td>97253.0</td>\n",
       "      <td>6712.0</td>\n",
       "      <td>99302.0</td>\n",
       "      <td>False</td>\n",
       "      <td>0</td>\n",
       "    </tr>\n",
       "    <tr>\n",
       "      <th>5</th>\n",
       "      <td>84588.0</td>\n",
       "      <td>70568.0</td>\n",
       "      <td>20810.0</td>\n",
       "      <td>2520.0</td>\n",
       "      <td>12937.0</td>\n",
       "      <td>21176.0</td>\n",
       "      <td>99659.0</td>\n",
       "      <td>61837.0</td>\n",
       "      <td>37660.0</td>\n",
       "      <td>97298.0</td>\n",
       "      <td>...</td>\n",
       "      <td>4167.0</td>\n",
       "      <td>95904.0</td>\n",
       "      <td>39754.0</td>\n",
       "      <td>31325.0</td>\n",
       "      <td>59003.0</td>\n",
       "      <td>51486.0</td>\n",
       "      <td>20283.0</td>\n",
       "      <td>88342.0</td>\n",
       "      <td>False</td>\n",
       "      <td>0</td>\n",
       "    </tr>\n",
       "  </tbody>\n",
       "</table>\n",
       "<p>5 rows × 22 columns</p>\n",
       "</div>"
      ],
      "text/plain": [
       "   Elem :1  Elem :2  Elem :3  Elem :4  Elem :5  Elem :6  Elem :7  Elem :8  \\\n",
       "1  10452.0   3767.0  11860.0  13731.0  29150.0  12174.0  89131.0  60008.0   \n",
       "2  83700.0  40482.0  13005.0  73886.0  82432.0  62550.0  78360.0  10613.0   \n",
       "3  34114.0  86671.0  98013.0  78270.0  94458.0  83710.0  15833.0  88701.0   \n",
       "4  88760.0  96348.0  58454.0   2021.0  21198.0  70719.0   7309.0  15399.0   \n",
       "5  84588.0  70568.0  20810.0   2520.0  12937.0  21176.0  99659.0  61837.0   \n",
       "\n",
       "   Elem :9  Elem :10   ...    Elem :13  Elem :14  Elem :15  Elem :16  \\\n",
       "1  88678.0   97158.0   ...     42483.0   16503.0   53474.0    1621.0   \n",
       "2  19695.0   77940.0   ...     86290.0   71251.0   72807.0   86556.0   \n",
       "3  27696.0    5404.0   ...     98037.0   86979.0   12625.0   64709.0   \n",
       "4  92832.0   76132.0   ...     44242.0   40306.0   14022.0   11689.0   \n",
       "5  37660.0   97298.0   ...      4167.0   95904.0   39754.0   31325.0   \n",
       "\n",
       "   Elem :17  Elem :18  Elem :19  Elem :20  Result  Target  \n",
       "1   18381.0    8532.0   37401.0   11683.0   False       0  \n",
       "2   69678.0   89353.0   70384.0     426.0   False       0  \n",
       "3    8222.0   55126.0   60596.0   86863.0   False       0  \n",
       "4   30025.0   97253.0    6712.0   99302.0   False       0  \n",
       "5   59003.0   51486.0   20283.0   88342.0   False       0  \n",
       "\n",
       "[5 rows x 22 columns]"
      ]
     },
     "execution_count": 55,
     "metadata": {},
     "output_type": "execute_result"
    }
   ],
   "source": [
    "frame.head()"
   ]
  },
  {
   "cell_type": "code",
   "execution_count": 56,
   "metadata": {},
   "outputs": [],
   "source": [
    "from sklearn.tree import DecisionTreeClassifier\n",
    "from sklearn.model_selection import train_test_split\n",
    "from sklearn.metrics import classification_report, confusion_matrix\n",
    "columns = list(frame.columns[0:20])\n",
    "\n",
    "y = frame[\"Result\"]\n",
    "x = frame[columns]\n",
    "tree = DecisionTreeClassifier()\n",
    "X_train, X_test, y_train, y_test = train_test_split(x, y, test_size=0.33, random_state=42)\n",
    "tree.fit(X_train,y_train)\n",
    "predictions = tree.predict(X_test)\n"
   ]
  },
  {
   "cell_type": "markdown",
   "metadata": {},
   "source": [
    "### Acurácia\n",
    "\n",
    "Afim de saber a capacidade do sistema de concluir de forma correta a classificação dos dados.\n"
   ]
  },
  {
   "cell_type": "code",
   "execution_count": 57,
   "metadata": {},
   "outputs": [
    {
     "name": "stdout",
     "output_type": "stream",
     "text": [
      "0.9998383838383839\n"
     ]
    }
   ],
   "source": [
    "from sklearn.metrics import accuracy_score, confusion_matrix, classification_report, precision_score, recall_score, hamming_loss\n",
    "print(accuracy_score(y_test,predictions))"
   ]
  },
  {
   "cell_type": "code",
   "execution_count": 58,
   "metadata": {},
   "outputs": [
    {
     "data": {
      "text/plain": [
       "(197967, 30, 18, 98985)"
      ]
     },
     "execution_count": 58,
     "metadata": {},
     "output_type": "execute_result"
    }
   ],
   "source": [
    "tn, fp, fn, tp = confusion_matrix(y_test, predictions).ravel()\n",
    "(tn, fp, fn, tp)"
   ]
  },
  {
   "cell_type": "markdown",
   "metadata": {},
   "source": [
    "\n",
    "<b>tn</b> = Representa a quantidade de result = false, que foram acertados corretamente pelo modelo.<br/>\n",
    "<b>fp</b> = Representa a quantidade de result = true, que foram errados pelo modelo.<br/>\n",
    "<b>fn</b> = Representa a quantidade de result = false, que foram errados pelo modelo.<br/>\n",
    "<b>tp</b> = Representa a quantidade de result = true, que foram acertados corretamente pelo modelo.<br/>\n",
    "\n"
   ]
  },
  {
   "cell_type": "code",
   "execution_count": null,
   "metadata": {},
   "outputs": [],
   "source": []
  }
 ],
 "metadata": {
  "kernelspec": {
   "display_name": "Python 3",
   "language": "python",
   "name": "python3"
  },
  "language_info": {
   "codemirror_mode": {
    "name": "ipython",
    "version": 3
   },
   "file_extension": ".py",
   "mimetype": "text/x-python",
   "name": "python",
   "nbconvert_exporter": "python",
   "pygments_lexer": "ipython3",
   "version": "3.6.5"
  }
 },
 "nbformat": 4,
 "nbformat_minor": 2
}
