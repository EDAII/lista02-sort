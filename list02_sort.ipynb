{
 "cells": [
  {
   "cell_type": "markdown",
   "metadata": {},
   "source": [
    "Para esse exercicio iremos mostrar que nem mesmo um modelo de aprendizado de maquina, não é capaz de dizer<br/> \n",
    "em 100% dos casos em quando uma lista está ordenada, importante resaltar que para esse modelo só foram considerados<br/>\n",
    "os primeiros 20 elementos da lista para treinar o modelo, o que em um problema real não é suficiente para afirmar que estar ordenado.<br/>\n",
    "Sendo em casos especificos utilizar o selection sort para ter certeza em 100% dos casos que a lista está ordenada."
   ]
  },
  {
   "cell_type": "code",
   "execution_count": 2,
   "metadata": {},
   "outputs": [],
   "source": [
    "import random\n",
    "import pandas as pd\n",
    "NUMBER_OF_ELEMENTS = 100\n",
    "RANGE_OF_ELEMENTS = 100000\n",
    "\n",
    "def generate_random_numbers():\n",
    "     return random.sample(range(RANGE_OF_ELEMENTS), NUMBER_OF_ELEMENTS)\n",
    "\n",
    "list_number = generate_random_numbers()\n"
   ]
  },
  {
   "cell_type": "code",
   "execution_count": 3,
   "metadata": {},
   "outputs": [],
   "source": [
    "\n",
    "def selection_sort(list_number):\n",
    "    size_list = len(list_number)\n",
    "    for i in range(0,size_list):\n",
    "        current = list_number[i]\n",
    "        min_value =  min(list_number[i:])\n",
    "        min_value_index = list_number.index(min(list_number[i:]))\n",
    "        if current != min_value :\n",
    "            list_number[i], list_number[min_value_index] = list_number[min_value_index] , list_number[i]\n",
    "    return list_number"
   ]
  },
  {
   "cell_type": "code",
   "execution_count": 81,
   "metadata": {},
   "outputs": [],
   "source": [
    "list_for_frame = [[]]\n",
    "result = []\n",
    "for i in range(0,900000):\n",
    "    lis_number = generate_random_numbers()\n",
    "    flag = random.randint(1,RANGE_OF_ELEMENTS)\n",
    "    if flag % 3 == 0:\n",
    "        lis_number.sort()\n",
    "        result.append('True')\n",
    "    else :\n",
    "        result.append('False')\n",
    "        \n",
    "    list_for_frame.append(lis_number[0:20])\n",
    "df = pd.DataFrame(list_for_frame,columns=['Elem :1','Elem :2','Elem :3','Elem :4','Elem :5','Elem :6','Elem :7',\n",
    "                        'Elem :8','Elem :9','Elem :10','Elem :11','Elem :12','Elem :13','Elem :14',\n",
    "                      'Elem :15','Elem :16','Elem :17','Elem :18','Elem :19','Elem :20'])\n",
    "\n",
    "df = df.drop(df.index[0])"
   ]
  },
  {
   "cell_type": "code",
   "execution_count": 82,
   "metadata": {},
   "outputs": [],
   "source": [
    "list_pandas_series = pd.Series(result)\n",
    "df['Result'] = list_pandas_series.values"
   ]
  },
  {
   "cell_type": "code",
   "execution_count": 83,
   "metadata": {},
   "outputs": [],
   "source": [
    "def make_target_frame(frame, target_column):\n",
    "    df_mod = frame.copy()\n",
    "    targets = df_mod[target_column].unique()\n",
    "    map_to_int = {name: n for n, name in enumerate(targets)}\n",
    "    df_mod[\"Target\"] = df_mod[target_column].map({'True':1, 'False':0})\n",
    "    return (df_mod, targets)\n",
    "frame, targets = make_target_frame(df, \"Result\")"
   ]
  },
  {
   "cell_type": "code",
   "execution_count": 84,
   "metadata": {},
   "outputs": [
    {
     "data": {
      "text/html": [
       "<div>\n",
       "<style scoped>\n",
       "    .dataframe tbody tr th:only-of-type {\n",
       "        vertical-align: middle;\n",
       "    }\n",
       "\n",
       "    .dataframe tbody tr th {\n",
       "        vertical-align: top;\n",
       "    }\n",
       "\n",
       "    .dataframe thead th {\n",
       "        text-align: right;\n",
       "    }\n",
       "</style>\n",
       "<table border=\"1\" class=\"dataframe\">\n",
       "  <thead>\n",
       "    <tr style=\"text-align: right;\">\n",
       "      <th></th>\n",
       "      <th>Elem :1</th>\n",
       "      <th>Elem :2</th>\n",
       "      <th>Elem :3</th>\n",
       "      <th>Elem :4</th>\n",
       "      <th>Elem :5</th>\n",
       "      <th>Elem :6</th>\n",
       "      <th>Elem :7</th>\n",
       "      <th>Elem :8</th>\n",
       "      <th>Elem :9</th>\n",
       "      <th>Elem :10</th>\n",
       "      <th>...</th>\n",
       "      <th>Elem :13</th>\n",
       "      <th>Elem :14</th>\n",
       "      <th>Elem :15</th>\n",
       "      <th>Elem :16</th>\n",
       "      <th>Elem :17</th>\n",
       "      <th>Elem :18</th>\n",
       "      <th>Elem :19</th>\n",
       "      <th>Elem :20</th>\n",
       "      <th>Result</th>\n",
       "      <th>Target</th>\n",
       "    </tr>\n",
       "  </thead>\n",
       "  <tbody>\n",
       "    <tr>\n",
       "      <th>1</th>\n",
       "      <td>1628.0</td>\n",
       "      <td>2638.0</td>\n",
       "      <td>3814.0</td>\n",
       "      <td>4650.0</td>\n",
       "      <td>4859.0</td>\n",
       "      <td>5369.0</td>\n",
       "      <td>5377.0</td>\n",
       "      <td>5997.0</td>\n",
       "      <td>6334.0</td>\n",
       "      <td>7006.0</td>\n",
       "      <td>...</td>\n",
       "      <td>9141.0</td>\n",
       "      <td>10985.0</td>\n",
       "      <td>11289.0</td>\n",
       "      <td>12584.0</td>\n",
       "      <td>15504.0</td>\n",
       "      <td>16404.0</td>\n",
       "      <td>17273.0</td>\n",
       "      <td>18982.0</td>\n",
       "      <td>True</td>\n",
       "      <td>1</td>\n",
       "    </tr>\n",
       "    <tr>\n",
       "      <th>2</th>\n",
       "      <td>641.0</td>\n",
       "      <td>1042.0</td>\n",
       "      <td>3155.0</td>\n",
       "      <td>3244.0</td>\n",
       "      <td>3832.0</td>\n",
       "      <td>4159.0</td>\n",
       "      <td>5653.0</td>\n",
       "      <td>5911.0</td>\n",
       "      <td>6894.0</td>\n",
       "      <td>12067.0</td>\n",
       "      <td>...</td>\n",
       "      <td>16099.0</td>\n",
       "      <td>16866.0</td>\n",
       "      <td>17085.0</td>\n",
       "      <td>17164.0</td>\n",
       "      <td>18584.0</td>\n",
       "      <td>19685.0</td>\n",
       "      <td>20547.0</td>\n",
       "      <td>20939.0</td>\n",
       "      <td>True</td>\n",
       "      <td>1</td>\n",
       "    </tr>\n",
       "    <tr>\n",
       "      <th>3</th>\n",
       "      <td>656.0</td>\n",
       "      <td>2077.0</td>\n",
       "      <td>3649.0</td>\n",
       "      <td>3809.0</td>\n",
       "      <td>4543.0</td>\n",
       "      <td>6206.0</td>\n",
       "      <td>6414.0</td>\n",
       "      <td>6491.0</td>\n",
       "      <td>7185.0</td>\n",
       "      <td>7389.0</td>\n",
       "      <td>...</td>\n",
       "      <td>11899.0</td>\n",
       "      <td>12051.0</td>\n",
       "      <td>12488.0</td>\n",
       "      <td>14382.0</td>\n",
       "      <td>14518.0</td>\n",
       "      <td>14719.0</td>\n",
       "      <td>14858.0</td>\n",
       "      <td>17658.0</td>\n",
       "      <td>True</td>\n",
       "      <td>1</td>\n",
       "    </tr>\n",
       "    <tr>\n",
       "      <th>4</th>\n",
       "      <td>21601.0</td>\n",
       "      <td>73157.0</td>\n",
       "      <td>78074.0</td>\n",
       "      <td>43293.0</td>\n",
       "      <td>57256.0</td>\n",
       "      <td>57622.0</td>\n",
       "      <td>87039.0</td>\n",
       "      <td>66280.0</td>\n",
       "      <td>37487.0</td>\n",
       "      <td>4347.0</td>\n",
       "      <td>...</td>\n",
       "      <td>23202.0</td>\n",
       "      <td>596.0</td>\n",
       "      <td>27662.0</td>\n",
       "      <td>89683.0</td>\n",
       "      <td>73817.0</td>\n",
       "      <td>7045.0</td>\n",
       "      <td>31269.0</td>\n",
       "      <td>75387.0</td>\n",
       "      <td>False</td>\n",
       "      <td>0</td>\n",
       "    </tr>\n",
       "    <tr>\n",
       "      <th>5</th>\n",
       "      <td>64025.0</td>\n",
       "      <td>85569.0</td>\n",
       "      <td>63016.0</td>\n",
       "      <td>86936.0</td>\n",
       "      <td>65847.0</td>\n",
       "      <td>41568.0</td>\n",
       "      <td>35183.0</td>\n",
       "      <td>20263.0</td>\n",
       "      <td>71139.0</td>\n",
       "      <td>53440.0</td>\n",
       "      <td>...</td>\n",
       "      <td>49050.0</td>\n",
       "      <td>48502.0</td>\n",
       "      <td>2426.0</td>\n",
       "      <td>70502.0</td>\n",
       "      <td>73258.0</td>\n",
       "      <td>26680.0</td>\n",
       "      <td>75528.0</td>\n",
       "      <td>47662.0</td>\n",
       "      <td>False</td>\n",
       "      <td>0</td>\n",
       "    </tr>\n",
       "  </tbody>\n",
       "</table>\n",
       "<p>5 rows × 22 columns</p>\n",
       "</div>"
      ],
      "text/plain": [
       "   Elem :1  Elem :2  Elem :3  Elem :4  Elem :5  Elem :6  Elem :7  Elem :8  \\\n",
       "1   1628.0   2638.0   3814.0   4650.0   4859.0   5369.0   5377.0   5997.0   \n",
       "2    641.0   1042.0   3155.0   3244.0   3832.0   4159.0   5653.0   5911.0   \n",
       "3    656.0   2077.0   3649.0   3809.0   4543.0   6206.0   6414.0   6491.0   \n",
       "4  21601.0  73157.0  78074.0  43293.0  57256.0  57622.0  87039.0  66280.0   \n",
       "5  64025.0  85569.0  63016.0  86936.0  65847.0  41568.0  35183.0  20263.0   \n",
       "\n",
       "   Elem :9  Elem :10   ...    Elem :13  Elem :14  Elem :15  Elem :16  \\\n",
       "1   6334.0    7006.0   ...      9141.0   10985.0   11289.0   12584.0   \n",
       "2   6894.0   12067.0   ...     16099.0   16866.0   17085.0   17164.0   \n",
       "3   7185.0    7389.0   ...     11899.0   12051.0   12488.0   14382.0   \n",
       "4  37487.0    4347.0   ...     23202.0     596.0   27662.0   89683.0   \n",
       "5  71139.0   53440.0   ...     49050.0   48502.0    2426.0   70502.0   \n",
       "\n",
       "   Elem :17  Elem :18  Elem :19  Elem :20  Result  Target  \n",
       "1   15504.0   16404.0   17273.0   18982.0    True       1  \n",
       "2   18584.0   19685.0   20547.0   20939.0    True       1  \n",
       "3   14518.0   14719.0   14858.0   17658.0    True       1  \n",
       "4   73817.0    7045.0   31269.0   75387.0   False       0  \n",
       "5   73258.0   26680.0   75528.0   47662.0   False       0  \n",
       "\n",
       "[5 rows x 22 columns]"
      ]
     },
     "execution_count": 84,
     "metadata": {},
     "output_type": "execute_result"
    }
   ],
   "source": [
    "frame.head()"
   ]
  },
  {
   "cell_type": "code",
   "execution_count": 85,
   "metadata": {},
   "outputs": [],
   "source": [
    "from sklearn.tree import DecisionTreeClassifier\n",
    "from sklearn.model_selection import train_test_split\n",
    "from sklearn.metrics import classification_report, confusion_matrix\n",
    "columns = list(frame.columns[0:20])\n",
    "\n",
    "y = frame[\"Result\"]\n",
    "x = frame[columns]\n",
    "tree = DecisionTreeClassifier()\n",
    "X_train, X_test, y_train, y_test = train_test_split(x, y, test_size=0.33, random_state=42)\n",
    "tree.fit(X_train,y_train)\n",
    "predictions = tree.predict(X_test)\n"
   ]
  },
  {
   "cell_type": "markdown",
   "metadata": {},
   "source": [
    "### Acurácia\n",
    "\n",
    "Afim de saber a capacidade do sistema de concluir de forma correta a classificação dos dados.\n"
   ]
  },
  {
   "cell_type": "code",
   "execution_count": 86,
   "metadata": {},
   "outputs": [
    {
     "name": "stdout",
     "output_type": "stream",
     "text": [
      "0.9997744107744108\n"
     ]
    }
   ],
   "source": [
    "from sklearn.metrics import accuracy_score, confusion_matrix, classification_report, precision_score, recall_score, hamming_loss\n",
    "print(accuracy_score(y_test,predictions))"
   ]
  },
  {
   "cell_type": "code",
   "execution_count": 87,
   "metadata": {},
   "outputs": [
    {
     "data": {
      "text/plain": [
       "(198542, 42, 25, 98391)"
      ]
     },
     "execution_count": 87,
     "metadata": {},
     "output_type": "execute_result"
    }
   ],
   "source": [
    "tn, fp, fn, tp = confusion_matrix(y_test, predictions).ravel()\n",
    "(tn, fp, fn, tp)"
   ]
  },
  {
   "cell_type": "markdown",
   "metadata": {},
   "source": [
    "\n",
    "<b>tn</b> = Representa a quantidade de result = false, que foram acertados corretamente pelo modelo.<br/>\n",
    "<b>fp</b> = Representa a quantidade de result = true, que foram errados pelo modelo.<br/>\n",
    "<b>fn</b> = Representa a quantidade de result = false, que foram errados pelo modelo.<br/>\n",
    "<b>tp</b> = Representa a quantidade de result = true, que foram acertados corretamente pelo modelo.<br/>\n",
    "\n"
   ]
  },
  {
   "cell_type": "code",
   "execution_count": null,
   "metadata": {},
   "outputs": [],
   "source": []
  }
 ],
 "metadata": {
  "kernelspec": {
   "display_name": "Python 3",
   "language": "python",
   "name": "python3"
  },
  "language_info": {
   "codemirror_mode": {
    "name": "ipython",
    "version": 3
   },
   "file_extension": ".py",
   "mimetype": "text/x-python",
   "name": "python",
   "nbconvert_exporter": "python",
   "pygments_lexer": "ipython3",
   "version": "3.5.2"
  }
 },
 "nbformat": 4,
 "nbformat_minor": 2
}
