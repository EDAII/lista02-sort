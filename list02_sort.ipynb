{
 "cells": [
  {
   "cell_type": "markdown",
   "metadata": {},
   "source": [
    "Para esse exercicio iremos mostrar que nem mesmo um modelo de aprendizado de maquina, não é capaz de dizer<br/> \n",
    "em 100% dos casos em quando uma lista está ordenada, importante resaltar que para esse modelo só foram considerados<br/>\n",
    "os primeiros 20 elementos da lista para treinar o modelo, o que em um problema real não é suficiente para afirmar que estar ordenado.<br/>\n",
    "Sendo em casos especificos utilizar o selection sort para ter certeza em 100% dos casos que a lista está ordenada."
   ]
  },
  {
   "cell_type": "code",
   "execution_count": 2,
   "metadata": {},
   "outputs": [],
   "source": [
    "import random, time\n",
    "import pandas as pd\n",
    "NUMBER_OF_ELEMENTS = 100\n",
    "RANGE_OF_ELEMENTS = 100000\n",
    "\n",
    "def generate_random_numbers():\n",
    "     return random.sample(range(RANGE_OF_ELEMENTS), NUMBER_OF_ELEMENTS)\n",
    "\n",
    "list_number = generate_random_numbers()\n"
   ]
  },
  {
   "cell_type": "code",
   "execution_count": 52,
   "metadata": {},
   "outputs": [],
   "source": [
    "\n",
    "def selection_sort(list_number):\n",
    "    size_list = len(list_number)\n",
    "    for i in range(0,size_list):\n",
    "        current = list_number[i]\n",
    "        min_value =  min(list_number[i:])\n",
    "        min_value_index = list_number.index(min(list_number[i:]))\n",
    "        if current != min_value :\n",
    "            list_number[i], list_number[min_value_index] = list_number[min_value_index] , list_number[i]\n",
    "    return list_number"
   ]
  },
  {
   "cell_type": "markdown",
   "metadata": {},
   "source": [
    "## Get time for execute the Sort algorithm with an array random"
   ]
  },
  {
   "cell_type": "code",
   "execution_count": 57,
   "metadata": {},
   "outputs": [],
   "source": [
    "interation_with_random_numbers = []\n",
    "time_for_execution = []\n",
    "value = 100\n",
    "for a in range(4):\n",
    "    random_numbers = generate_random_numbers()\n",
    "    #random_numbers = random.sample(range(100000), value)\n",
    "    start = time.time()\n",
    "    ordination = selection_sort(random_numbers)\n",
    "    end = time.time()\n",
    "    time_of_execution = end - start\n",
    "    interation_with_random_numbers.append(value)\n",
    "    time_for_execution.append(time_of_execution)\n",
    "    value = value*10"
   ]
  },
  {
   "cell_type": "code",
   "execution_count": 58,
   "metadata": {},
   "outputs": [
    {
     "data": {
      "image/png": "[encoded data removed]",
      "text/plain": [
       "<Figure size 432x288 with 1 Axes>"
      ]
     },
     "metadata": {},
     "output_type": "display_data"
    },
    {
     "name": "stdout",
     "output_type": "stream",
     "text": [
      "[0.0010254383087158203, 0.0008208751678466797, 0.0007812976837158203, 0.0007429122924804688]\n",
      "[100, 1000, 10000, 100000]\n"
     ]
    }
   ],
   "source": [
    "import matplotlib.pyplot as plt\n",
    "plt.xlabel(\"Values\")\n",
    "plt.ylabel(\"Time\")\n",
    "plt.plot(interation_with_random_numbers,time_for_execution)\n",
    "plt.show()\n",
    "print(time_for_execution)\n",
    "print(interation_with_random_numbers)"
   ]
  },
  {
   "cell_type": "markdown",
   "metadata": {},
   "source": [
    "## Get time for execute the Sort algorithm with an array sorted"
   ]
  },
  {
   "cell_type": "code",
   "execution_count": 59,
   "metadata": {},
   "outputs": [],
   "source": [
    "interation_with_sorted_numbers = []\n",
    "time_for_execution_sorted = []\n",
    "value = 100\n",
    "for a in range(4):\n",
    "    random_numbers = generate_random_numbers()\n",
    "    random_numbers.sort()\n",
    "    start = time.time()\n",
    "    ordination = selection_sort(random_numbers)\n",
    "    end = time.time()\n",
    "    time_of_execution = end - start\n",
    "    interation_with_sorted_numbers.append(value)\n",
    "    time_for_execution_sorted.append(time_of_execution)\n",
    "    value = value*10"
   ]
  },
  {
   "cell_type": "code",
   "execution_count": 60,
   "metadata": {},
   "outputs": [
    {
     "data": {
      "image/png": "[encoded data removed]",
      "text/plain": [
       "<Figure size 432x288 with 1 Axes>"
      ]
     },
     "metadata": {},
     "output_type": "display_data"
    },
    {
     "name": "stdout",
     "output_type": "stream",
     "text": [
      "[0.0012950897216796875, 0.0013191699981689453, 0.004667997360229492, 0.0008389949798583984]\n",
      "[100, 1000, 10000, 100000]\n"
     ]
    }
   ],
   "source": [
    "import matplotlib.pyplot as plt\n",
    "plt.xlabel(\"Values\")\n",
    "plt.ylabel(\"Time\")\n",
    "plt.plot(interation_with_sorted_numbers,time_for_execution_sorted)\n",
    "plt.show()\n",
    "print(time_for_execution_sorted)\n",
    "print(interation_with_sorted_numbers)"
   ]
  },
  {
   "cell_type": "code",
   "execution_count": 25,
   "metadata": {},
   "outputs": [],
   "source": [
    "list_for_frame = [[]]\n",
    "result = []\n",
    "for i in range(0,900000):\n",
    "    lis_number = generate_random_numbers()\n",
    "    flag = random.randint(1,RANGE_OF_ELEMENTS)\n",
    "    if flag % 3 == 0:\n",
    "        lis_number.sort()\n",
    "        result.append('True')\n",
    "    else :\n",
    "        result.append('False')\n",
    "        \n",
    "    list_for_frame.append(lis_number[0:20])\n",
    "df = pd.DataFrame(list_for_frame,columns=['Elem :1','Elem :2','Elem :3','Elem :4','Elem :5','Elem :6','Elem :7',\n",
    "                        'Elem :8','Elem :9','Elem :10','Elem :11','Elem :12','Elem :13','Elem :14',\n",
    "                      'Elem :15','Elem :16','Elem :17','Elem :18','Elem :19','Elem :20'])\n",
    "\n",
    "df = df.drop(df.index[0])"
   ]
  },
  {
   "cell_type": "code",
   "execution_count": null,
   "metadata": {},
   "outputs": [],
   "source": [
    "list_pandas_series = pd.Series(result)\n",
    "df['Result'] = list_pandas_series.values"
   ]
  },
  {
   "cell_type": "code",
   "execution_count": null,
   "metadata": {},
   "outputs": [],
   "source": [
    "def make_target_frame(frame, target_column):\n",
    "    df_mod = frame.copy()\n",
    "    targets = df_mod[target_column].unique()\n",
    "    map_to_int = {name: n for n, name in enumerate(targets)}\n",
    "    df_mod[\"Target\"] = df_mod[target_column].map({'True':1, 'False':0})\n",
    "    return (df_mod, targets)\n",
    "frame, targets = make_target_frame(df, \"Result\")"
   ]
  },
  {
   "cell_type": "code",
   "execution_count": null,
   "metadata": {},
   "outputs": [],
   "source": [
    "frame.head()"
   ]
  },
  {
   "cell_type": "code",
   "execution_count": 85,
   "metadata": {},
   "outputs": [],
   "source": [
    "from sklearn.tree import DecisionTreeClassifier\n",
    "from sklearn.model_selection import train_test_split\n",
    "from sklearn.metrics import classification_report, confusion_matrix\n",
    "columns = list(frame.columns[0:20])\n",
    "\n",
    "y = frame[\"Result\"]\n",
    "x = frame[columns]\n",
    "tree = DecisionTreeClassifier()\n",
    "X_train, X_test, y_train, y_test = train_test_split(x, y, test_size=0.33, random_state=42)\n",
    "tree.fit(X_train,y_train)\n",
    "predictions = tree.predict(X_test)\n"
   ]
  },
  {
   "cell_type": "markdown",
   "metadata": {},
   "source": [
    "### Acurácia\n",
    "\n",
    "Afim de saber a capacidade do sistema de concluir de forma correta a classificação dos dados.\n"
   ]
  },
  {
   "cell_type": "code",
   "execution_count": 86,
   "metadata": {},
   "outputs": [
    {
     "name": "stdout",
     "output_type": "stream",
     "text": [
      "0.9997744107744108\n"
     ]
    }
   ],
   "source": [
    "from sklearn.metrics import accuracy_score, confusion_matrix, classification_report, precision_score, recall_score, hamming_loss\n",
    "print(accuracy_score(y_test,predictions))"
   ]
  },
  {
   "cell_type": "code",
   "execution_count": 87,
   "metadata": {},
   "outputs": [
    {
     "data": {
      "text/plain": [
       "(198542, 42, 25, 98391)"
      ]
     },
     "execution_count": 87,
     "metadata": {},
     "output_type": "execute_result"
    }
   ],
   "source": [
    "tn, fp, fn, tp = confusion_matrix(y_test, predictions).ravel()\n",
    "(tn, fp, fn, tp)"
   ]
  },
  {
   "cell_type": "markdown",
   "metadata": {},
   "source": [
    "\n",
    "<b>tn</b> = Representa a quantidade de result = false, que foram acertados corretamente pelo modelo.<br/>\n",
    "<b>fp</b> = Representa a quantidade de result = true, que foram errados pelo modelo.<br/>\n",
    "<b>fn</b> = Representa a quantidade de result = false, que foram errados pelo modelo.<br/>\n",
    "<b>tp</b> = Representa a quantidade de result = true, que foram acertados corretamente pelo modelo.<br/>\n",
    "\n"
   ]
  },
  {
   "cell_type": "code",
   "execution_count": null,
   "metadata": {},
   "outputs": [],
   "source": []
  }
 ],
 "metadata": {
  "kernelspec": {
   "display_name": "Python 3",
   "language": "python",
   "name": "python3"
  },
  "language_info": {
   "codemirror_mode": {
    "name": "ipython",
    "version": 3
   },
   "file_extension": ".py",
   "mimetype": "text/x-python",
   "name": "python",
   "nbconvert_exporter": "python",
   "pygments_lexer": "ipython3",
   "version": "3.6.5"
  }
 },
 "nbformat": 4,
 "nbformat_minor": 2
}
